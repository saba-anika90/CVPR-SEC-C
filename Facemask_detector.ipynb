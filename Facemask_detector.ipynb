{
  "nbformat": 4,
  "nbformat_minor": 0,
  "metadata": {
    "colab": {
      "name": "Facemask detector.ipynb",
      "provenance": [],
      "authorship_tag": "ABX9TyNKFvYJMI+ImqlH/68pyIyl",
      "include_colab_link": true
    },
    "kernelspec": {
      "name": "python3",
      "display_name": "Python 3"
    },
    "language_info": {
      "name": "python"
    }
  },
  "cells": [
    {
      "cell_type": "markdown",
      "metadata": {
        "id": "view-in-github",
        "colab_type": "text"
      },
      "source": [
        "<a href=\"https://colab.research.google.com/github/saba-anika90/CVPR-SEC-C/blob/main/Facemask_detector.ipynb\" target=\"_parent\"><img src=\"https://colab.research.google.com/assets/colab-badge.svg\" alt=\"Open In Colab\"/></a>"
      ]
    },
    {
      "cell_type": "code",
      "execution_count": null,
      "metadata": {
        "id": "pvKNBQcBTMQU"
      },
      "outputs": [],
      "source": [
        "import cv2\n",
        "import joblib\n",
        "import numpy as np\n",
        "import matplotlib.pyplot as plt\n",
        "from tensorflow.keras.models import load_model\n",
        "model = load_model('D:/Documents/CVPR/Resources/face_mask/Models/AlexNetOnFaceMask.h5', compile = True)\n",
        "joblib_in = open(\"D:/Documents/CVPR/Resources/face_mask/X_train.joblib\",\"rb\")\n",
        "X_train = joblib.load(joblib_in)\n",
        "mean_img = np.mean(X_train, axis=0)\n",
        "print(mean_img.shape)\n",
        "(64, 64, 3)\n",
        "labels_dict={0:'without mask',1:'mask'}\n",
        "webcam = cv2.VideoCapture(0) #Use camera 0\n",
        "\n",
        "while True:\n",
        "    (rval, im) = webcam.read()\n",
        "    im=cv2.flip(im,1,1) #Flip to act as a mirror\n",
        "    try:\n",
        "        resized=cv2.resize(im,(64,64))\n",
        "    except:\n",
        "        break\n",
        "    #norm = resized-mean_img\n",
        "    #reshaped=np.reshape(norm,(1,64,64,3))\n",
        "    reshaped=np.reshape(resized,(1,64,64,3))\n",
        "    mr=np.reshape(mean_img,(1,64,64,3))\n",
        "    norm = reshaped - mr\n",
        "    result=model.predict(norm)\n",
        "    label=np.argmax(result,axis=1)[0]\n",
        "    cv2.putText(im, labels_dict[label], (20, 60),cv2.FONT_HERSHEY_SIMPLEX,0.8,(255,255,255),2)\n",
        "        \n",
        "    # Show the image\n",
        "    cv2.imshow('LIVE',   im)\n",
        "    key = cv2.waitKey(10)\n",
        "    # if Esc key is press then break out of the loop \n",
        "    if key == 27: #The Esc key\n",
        "        break\n",
        "# Stop video\n",
        "webcam.release()\n",
        "\n",
        "# Close all started windows\n",
        "cv2.destroyAllWindows()"
      ]
    },
    {
      "cell_type": "code",
      "source": [
        ""
      ],
      "metadata": {
        "id": "Dpwr4-UBVCyH"
      },
      "execution_count": null,
      "outputs": []
    }
  ]
}